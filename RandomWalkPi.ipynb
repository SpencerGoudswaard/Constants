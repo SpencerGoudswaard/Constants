{
 "cells": [
  {
   "cell_type": "code",
   "execution_count": 5,
   "metadata": {},
   "outputs": [
    {
     "name": "stdout",
     "output_type": "stream",
     "text": [
      "Populating the interactive namespace from numpy and matplotlib\n"
     ]
    }
   ],
   "source": [
    "%pylab ipympl"
   ]
  },
  {
   "cell_type": "code",
   "execution_count": 154,
   "metadata": {},
   "outputs": [],
   "source": [
    "def randomWalk(n):\n",
    "    R = rand(n)\n",
    "    xfin = n/2 - sum(R > 0.5)\n",
    "    return xfin"
   ]
  },
  {
   "cell_type": "code",
   "execution_count": 155,
   "metadata": {},
   "outputs": [
    {
     "data": {
      "application/vnd.jupyter.widget-view+json": {
       "model_id": "4d7faca295344ef89f3a758fdfa4b0e7",
       "version_major": 2,
       "version_minor": 0
      },
      "text/plain": [
       "Canvas(toolbar=Toolbar(toolitems=[('Home', 'Reset original view', 'home', 'home'), ('Back', 'Back to previous …"
      ]
     },
     "metadata": {},
     "output_type": "display_data"
    },
    {
     "data": {
      "application/vnd.jupyter.widget-view+json": {
       "model_id": "3579a3b37b664e7c8cc8c57b2aeb3423",
       "version_major": 2,
       "version_minor": 0
      },
      "text/plain": [
       "Canvas(toolbar=Toolbar(toolitems=[('Home', 'Reset original view', 'home', 'home'), ('Back', 'Back to previous …"
      ]
     },
     "metadata": {},
     "output_type": "display_data"
    },
    {
     "name": "stdout",
     "output_type": "stream",
     "text": [
      "3.204614645088928\n"
     ]
    }
   ],
   "source": [
    "num_runs = 1000\n",
    "num_steps = 100\n",
    "i = 0\n",
    "X = []\n",
    "while(i < num_runs):\n",
    "    X.append(randomWalk(num_steps))\n",
    "    i += 1\n",
    "nbins = max(X)-min(X)\n",
    "nbins= int(nbins)\n",
    "close(1); figure(1)\n",
    "hist(X, bins = nbins)\n",
    "xlabel(\"x position\"); ylabel(\"Number of Walks that end at x\"); title(\"1d Random Walk\")\n",
    "close(2); figure(2)\n",
    "Y = []\n",
    "for elem in X:\n",
    "    Y.append(abs(elem))\n",
    "nbins = max(max(X),abs(min(X)))\n",
    "nbins = int(nbins)\n",
    "hist(Y, bins = nbins)\n",
    "xlabel(\"Distance from Origin\"); ylabel(\"Number of Walks\"); title(\"1d Random Walk\")\n",
    "avgDist = sum(Y)/num_runs\n",
    "pie = (num_steps)/(2*(avgDist**2))\n",
    "print(pie)"
   ]
  },
  {
   "cell_type": "code",
   "execution_count": 157,
   "metadata": {},
   "outputs": [
    {
     "data": {
      "application/vnd.jupyter.widget-view+json": {
       "model_id": "016aa46f17a34d1bb6339d642583e5e3",
       "version_major": 2,
       "version_minor": 0
      },
      "text/plain": [
       "Canvas(toolbar=Toolbar(toolitems=[('Home', 'Reset original view', 'home', 'home'), ('Back', 'Back to previous …"
      ]
     },
     "metadata": {},
     "output_type": "display_data"
    },
    {
     "data": {
      "text/plain": [
       "Text(0, 0.5, 'Number of Steps')"
      ]
     },
     "execution_count": 157,
     "metadata": {},
     "output_type": "execute_result"
    }
   ],
   "source": [
    "import numpy as np\n",
    "num_runs = 5000\n",
    "step_vals = arange(10,1010,101)\n",
    "distances = []\n",
    "for num_steps in step_vals:\n",
    "    i = 0\n",
    "    X = []\n",
    "    while(i < num_runs):\n",
    "        X.append(randomWalk(num_steps))\n",
    "        i += 1\n",
    "    Y = []\n",
    "    for elem in X:\n",
    "        Y.append(abs(elem))\n",
    "    avgDist = sum(Y)/num_runs\n",
    "    distances.append(avgDist**2)\n",
    "close(3); figure(3)\n",
    "plot(distances, step_vals, \"-\", label = \"Avg distance vs number of steps\")\n",
    "Z = step_vals/distances\n",
    "pies = []\n",
    "for elem in distances:\n",
    "    pies.append(2*np.pi)\n",
    "plot(distances, Z, \"-r\", label = \"Slope\")\n",
    "plot(distances, pies, \"--y\", label = \"2 pi\")\n",
    "legend(); xlabel('Average Distance from Origin Squared'); ylabel('Number of Steps')"
   ]
  },
  {
   "cell_type": "markdown",
   "metadata": {},
   "source": [
    "So: $\\frac{n}{d_{avg}^2} = 2\\pi$"
   ]
  },
  {
   "cell_type": "markdown",
   "metadata": {},
   "source": [
    "And: $d_{avg} = \\sqrt{\\frac{n}{2\\pi}}$"
   ]
  },
  {
   "cell_type": "code",
   "execution_count": null,
   "metadata": {},
   "outputs": [],
   "source": []
  }
 ],
 "metadata": {
  "kernelspec": {
   "display_name": "Python 3",
   "language": "python",
   "name": "python3"
  },
  "language_info": {
   "codemirror_mode": {
    "name": "ipython",
    "version": 3
   },
   "file_extension": ".py",
   "mimetype": "text/x-python",
   "name": "python",
   "nbconvert_exporter": "python",
   "pygments_lexer": "ipython3",
   "version": "3.6.9"
  }
 },
 "nbformat": 4,
 "nbformat_minor": 4
}
