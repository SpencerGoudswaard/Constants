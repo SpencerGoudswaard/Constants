{
 "cells": [
  {
   "cell_type": "code",
   "execution_count": 1,
   "metadata": {},
   "outputs": [
    {
     "name": "stdout",
     "output_type": "stream",
     "text": [
      "Populating the interactive namespace from numpy and matplotlib\n"
     ]
    }
   ],
   "source": [
    "%pylab ipympl"
   ]
  },
  {
   "cell_type": "code",
   "execution_count": 2,
   "metadata": {},
   "outputs": [],
   "source": [
    "def LogisticMap(a, xn):\n",
    "    xn1 = a*xn*(1-xn)\n",
    "    return xn1"
   ]
  },
  {
   "cell_type": "markdown",
   "metadata": {},
   "source": [
    "The cell below shows that the function $x_{n+1} = ax_n(1-x_n)$ converges to a single value no matter what initial conditions are given."
   ]
  },
  {
   "cell_type": "code",
   "execution_count": 3,
   "metadata": {},
   "outputs": [
    {
     "data": {
      "application/vnd.jupyter.widget-view+json": {
       "model_id": "4d4f964a2ba0464a868566dfbfdffe6c",
       "version_major": 2,
       "version_minor": 0
      },
      "text/plain": [
       "Canvas(toolbar=Toolbar(toolitems=[('Home', 'Reset original view', 'home', 'home'), ('Back', 'Back to previous …"
      ]
     },
     "metadata": {},
     "output_type": "display_data"
    },
    {
     "data": {
      "text/plain": [
       "<matplotlib.legend.Legend at 0x7fb1e55d3c50>"
      ]
     },
     "execution_count": 3,
     "metadata": {},
     "output_type": "execute_result"
    }
   ],
   "source": [
    "a = 2.6\n",
    "xi = 0.4\n",
    "xis = linspace(0.1,0.9,100)\n",
    "Result = LogisticMap(a, xis)\n",
    "close(1); figure(1)\n",
    "plot(xis,Result, \"-\", color = \"red\", label = \"Initial Condtion\")\n",
    "i = 0\n",
    "while(i < 10):\n",
    "    Result = LogisticMap(a, Result)\n",
    "    i += 1\n",
    "plot(xis,Result, \"--\", color = \"blue\", label = \"Convergence\")\n",
    "legend()"
   ]
  },
  {
   "cell_type": "markdown",
   "metadata": {},
   "source": [
    "The cell below this shows what happens as we vary $a$ in $x_{n+1} = ax_n(1-x_n)$ and since we just showed that $x_i$ doesn't matter we will arbitrarily set it to 0.5."
   ]
  },
  {
   "cell_type": "code",
   "execution_count": 4,
   "metadata": {},
   "outputs": [
    {
     "data": {
      "application/vnd.jupyter.widget-view+json": {
       "model_id": "f2ce974acff244b38e3d09015ce34dc2",
       "version_major": 2,
       "version_minor": 0
      },
      "text/plain": [
       "Canvas(toolbar=Toolbar(toolitems=[('Home', 'Reset original view', 'home', 'home'), ('Back', 'Back to previous …"
      ]
     },
     "metadata": {},
     "output_type": "display_data"
    },
    {
     "data": {
      "text/plain": [
       "Text(0, 0.5, '$x_n$')"
      ]
     },
     "execution_count": 4,
     "metadata": {},
     "output_type": "execute_result"
    }
   ],
   "source": [
    "a = linspace(0.1, 3, 100)\n",
    "xi = 0.5\n",
    "Result = LogisticMap(a, xi)\n",
    "i = 0\n",
    "while(i < 10):\n",
    "    Result = LogisticMap(a, Result)\n",
    "    i += 1\n",
    "close(2); figure(2)\n",
    "plot(a, Result, \"-b\", label = \"Convergence based on a\")\n",
    "xlabel(\"a\"); ylabel(\"$x_n$\")"
   ]
  },
  {
   "cell_type": "markdown",
   "metadata": {},
   "source": [
    "So it looks to be a seemingly normal function but lets see what happens as we allow $a$ to grow past 3"
   ]
  },
  {
   "cell_type": "code",
   "execution_count": 6,
   "metadata": {},
   "outputs": [
    {
     "data": {
      "application/vnd.jupyter.widget-view+json": {
       "model_id": "46e56e996c0e4fc58255ab13e57c6998",
       "version_major": 2,
       "version_minor": 0
      },
      "text/plain": [
       "Canvas(toolbar=Toolbar(toolitems=[('Home', 'Reset original view', 'home', 'home'), ('Back', 'Back to previous …"
      ]
     },
     "metadata": {},
     "output_type": "display_data"
    },
    {
     "data": {
      "text/plain": [
       "Text(0, 0.5, '$x_n$')"
      ]
     },
     "execution_count": 6,
     "metadata": {},
     "output_type": "execute_result"
    }
   ],
   "source": [
    "a = linspace(0.1, 3.5, 1000)\n",
    "xi = 0.5\n",
    "Result = LogisticMap(a, xi)\n",
    "i = 0\n",
    "while(i < 10):\n",
    "    Result = LogisticMap(a, Result)\n",
    "    i += 1\n",
    "close(3); figure(3)\n",
    "plot(a, Result, \"-b\", label = \"n == 10 Convergence\")\n",
    "Result = LogisticMap(a, Result)\n",
    "plot(a, Result, \"--r\", label = \"n == 11 Convergence\")\n",
    "legend(); xlabel(\"a\"); ylabel(\"$x_n$\")"
   ]
  },
  {
   "cell_type": "markdown",
   "metadata": {},
   "source": [
    "But wait we thought it always converged to one number? However, now that a has grown past a certain value it seems to converge to 2 values. Lets see if we can plot this periodically based on n."
   ]
  },
  {
   "cell_type": "code",
   "execution_count": 7,
   "metadata": {},
   "outputs": [
    {
     "data": {
      "application/vnd.jupyter.widget-view+json": {
       "model_id": "61c4944e30ef4604addc2153d998e93c",
       "version_major": 2,
       "version_minor": 0
      },
      "text/plain": [
       "Canvas(toolbar=Toolbar(toolitems=[('Home', 'Reset original view', 'home', 'home'), ('Back', 'Back to previous …"
      ]
     },
     "metadata": {},
     "output_type": "display_data"
    },
    {
     "data": {
      "text/plain": [
       "Text(0, 0.5, '$x_n$')"
      ]
     },
     "execution_count": 7,
     "metadata": {},
     "output_type": "execute_result"
    }
   ],
   "source": [
    "a = linspace(0.1, 3.6, 1000)\n",
    "xi = 0.5\n",
    "Result = LogisticMap(a, xi)\n",
    "i = 0\n",
    "while(i < 100):\n",
    "    Result = LogisticMap(a, Result)\n",
    "    i += 1\n",
    "close(7); figure(7)\n",
    "while(i < 110):\n",
    "    Result = LogisticMap(a, Result)\n",
    "    plot(a, Result, \"-y\")\n",
    "    Result = LogisticMap(a, Result)\n",
    "    plot(a, Result, \"-r\")\n",
    "    Result = LogisticMap(a, Result)\n",
    "    plot(a, Result, \"-g\")\n",
    "    Result = LogisticMap(a, Result)\n",
    "    plot(a, Result, \"-b\")\n",
    "    i += 1\n",
    "xlabel(\"a\"); ylabel(\"$x_n$\")"
   ]
  },
  {
   "cell_type": "markdown",
   "metadata": {},
   "source": [
    "So the plot shows that the convergence oscillates between 2 values, then doubles again."
   ]
  },
  {
   "cell_type": "code",
   "execution_count": 8,
   "metadata": {},
   "outputs": [
    {
     "data": {
      "application/vnd.jupyter.widget-view+json": {
       "model_id": "557a760b839b4831aca1df27b5803e00",
       "version_major": 2,
       "version_minor": 0
      },
      "text/plain": [
       "Canvas(toolbar=Toolbar(toolitems=[('Home', 'Reset original view', 'home', 'home'), ('Back', 'Back to previous …"
      ]
     },
     "metadata": {},
     "output_type": "display_data"
    },
    {
     "data": {
      "application/vnd.jupyter.widget-view+json": {
       "model_id": "bdc28dce09fc4222ae798d59ee23f21c",
       "version_major": 2,
       "version_minor": 0
      },
      "text/plain": [
       "Canvas(toolbar=Toolbar(toolitems=[('Home', 'Reset original view', 'home', 'home'), ('Back', 'Back to previous …"
      ]
     },
     "metadata": {},
     "output_type": "display_data"
    },
    {
     "data": {
      "application/vnd.jupyter.widget-view+json": {
       "model_id": "5d80ca119d944eff983059e968cb9a34",
       "version_major": 2,
       "version_minor": 0
      },
      "text/plain": [
       "Canvas(toolbar=Toolbar(toolitems=[('Home', 'Reset original view', 'home', 'home'), ('Back', 'Back to previous …"
      ]
     },
     "metadata": {},
     "output_type": "display_data"
    },
    {
     "data": {
      "application/vnd.jupyter.widget-view+json": {
       "model_id": "0007182291ac46e4b6237ff389d70f8c",
       "version_major": 2,
       "version_minor": 0
      },
      "text/plain": [
       "Canvas(toolbar=Toolbar(toolitems=[('Home', 'Reset original view', 'home', 'home'), ('Back', 'Back to previous …"
      ]
     },
     "metadata": {},
     "output_type": "display_data"
    },
    {
     "data": {
      "text/plain": [
       "<matplotlib.legend.Legend at 0x7fb1e4842e10>"
      ]
     },
     "execution_count": 8,
     "metadata": {},
     "output_type": "execute_result"
    }
   ],
   "source": [
    "a = 3.0\n",
    "xi = 0.5\n",
    "Result = LogisticMap(a, xi)\n",
    "Results30 = []\n",
    "Results35 = []\n",
    "Results355 = []\n",
    "Results40 = []\n",
    "i = linspace(21,100,100)\n",
    "for val in i:\n",
    "    Result = LogisticMap(a, Result)\n",
    "    Results30.append(Result)\n",
    "a = 3.5\n",
    "for val in i:\n",
    "    Result = LogisticMap(a, Result)\n",
    "    Results35.append(Result)\n",
    "a = 3.6\n",
    "for val in i:\n",
    "    Result = LogisticMap(a, Result)\n",
    "    Results355.append(Result)\n",
    "a = 4\n",
    "for val in i:\n",
    "    Result = LogisticMap(a, Result)\n",
    "    Results40.append(Result)\n",
    "close(4); figure(4)\n",
    "plot(i, Results30, \"-b\", label = \"a = 3.0\")\n",
    "xlabel(\"n\"); ylabel(\"$x_n$\"); legend()\n",
    "close(5); figure(5)\n",
    "plot(i, Results35, \"-r\", label = \"a = 3.5\")\n",
    "xlabel(\"n\"); ylabel(\"$x_n$\"); legend()\n",
    "close(8); figure(8)\n",
    "plot(i, Results355, \"-y\", label = \"a = 3.55\")\n",
    "xlabel(\"n\"); ylabel(\"$x_n$\"); legend()\n",
    "close(6); figure(6)\n",
    "plot(i, Results40, \"-g\", label = \"a = 4.0\")\n",
    "xlabel(\"n\"); ylabel(\"$x_n$\"); legend()"
   ]
  },
  {
   "cell_type": "markdown",
   "metadata": {},
   "source": [
    "At $a > 3.55$ the periodicity is lost and the function becomes chaotic and psuedo random."
   ]
  },
  {
   "cell_type": "code",
   "execution_count": 9,
   "metadata": {},
   "outputs": [
    {
     "name": "stdout",
     "output_type": "stream",
     "text": [
      "The width between period doubling events converges to what is called the Feigenbaum Constant as we can see with the first 4 events: \n",
      " 4.452 -> 4.745 -> 4.696 -> 4.667\n"
     ]
    }
   ],
   "source": [
    "a = linspace(0.1, 3.7, 10000)\n",
    "xi = 0.5\n",
    "Result = LogisticMap(a, xi)\n",
    "i = 0\n",
    "while(i < 10000):\n",
    "    Result = LogisticMap(a, Result)\n",
    "    i += 1\n",
    "Results = [LogisticMap(a, Result)]\n",
    "j = 1\n",
    "while(j < 32):\n",
    "    Results.append(LogisticMap(a, Results[j-1]))\n",
    "    j += 1\n",
    "\n",
    "p1 = (abs(Results[0] - Results[1]) > 0.01)\n",
    "\n",
    "p2 = (abs(Results[0] - Results[2]) > 0.001)\n",
    "p3 = (abs(Results[1] - Results[3]) > 0.001)\n",
    "\n",
    "p4 = (abs(Results[0] - Results[4]) > 0.001)\n",
    "p5 = (abs(Results[1] - Results[5]) > 0.001)\n",
    "p6 = (abs(Results[2] - Results[6]) > 0.001)\n",
    "p7 = (abs(Results[3] - Results[7]) > 0.001)\n",
    "\n",
    "p8 = (abs(Results[0] - Results[8]) > 0.0001)\n",
    "p9 = (abs(Results[1] - Results[9]) > 0.0001)\n",
    "p10 = (abs(Results[2] - Results[10]) > 0.0001)\n",
    "p11 = (abs(Results[3] - Results[11]) > 0.0001)\n",
    "p12 = (abs(Results[4] - Results[12]) > 0.0001)\n",
    "p13 = (abs(Results[5] - Results[13]) > 0.0001)\n",
    "p14 = (abs(Results[6] - Results[14]) > 0.0001)\n",
    "p15 = (abs(Results[7] - Results[15]) > 0.0001)\n",
    "\n",
    "p16 = (abs(Results[0] - Results[16]) > 0.0001)\n",
    "p17 = (abs(Results[1] - Results[17]) > 0.0001)\n",
    "p18 = (abs(Results[2] - Results[18]) > 0.0001)\n",
    "p19 = (abs(Results[3] - Results[19]) > 0.0001)\n",
    "p20 = (abs(Results[4] - Results[20]) > 0.0001)\n",
    "p21 = (abs(Results[5] - Results[21]) > 0.0001)\n",
    "p22 = (abs(Results[6] - Results[22]) > 0.0001)\n",
    "p23 = (abs(Results[7] - Results[23]) > 0.0001)\n",
    "p24 = (abs(Results[8] - Results[24]) > 0.0001)\n",
    "p25 = (abs(Results[9] - Results[25]) > 0.0001)\n",
    "p26 = (abs(Results[10] - Results[26]) > 0.0001)\n",
    "p27 = (abs(Results[11] - Results[27]) > 0.0001)\n",
    "p28 = (abs(Results[12] - Results[28]) > 0.0001)\n",
    "p29 = (abs(Results[13] - Results[29]) > 0.0001)\n",
    "p30 = (abs(Results[14] - Results[30]) > 0.0001)\n",
    "p31 = (abs(Results[15] - Results[31]) > 0.0001)\n",
    "\n",
    "width1 = a[where(p1)[0][0]] - 1\n",
    "width2 = a[where(p2)[0][0]] - a[where(p1)[0][0]]\n",
    "width3 = a[where(p4)[0][0]] - a[where(p2)[0][0]]\n",
    "width4 = a[where(p8)[0][0]] - a[where(p4)[0][0]]\n",
    "width5 = a[where(p16)[0][0]] - a[where(p8)[0][0]]\n",
    "\n",
    "FBC1 = width1/width2\n",
    "FBC2 = width2/width3\n",
    "FBC3 = width3/width4\n",
    "FBC4 = width4/width5\n",
    "\n",
    "print(\"The width between period doubling events converges to what is called the Feigenbaum Constant as we can see with the first 4 events: \\n {FBC1:.3f} -> {FBC2:.3f} -> {FBC3:.3f} -> {FBC4:.3f}\".format(FBC1 = FBC1, FBC2 = FBC2, FBC3 = FBC3, FBC4 = FBC4))\n"
   ]
  },
  {
   "cell_type": "markdown",
   "metadata": {},
   "source": [
    "This constant also appears in the Mandelbrot set as this equation is a real version of the complex equation that gives the Mandelbrot set"
   ]
  },
  {
   "cell_type": "code",
   "execution_count": null,
   "metadata": {},
   "outputs": [],
   "source": []
  }
 ],
 "metadata": {
  "kernelspec": {
   "display_name": "Python 3",
   "language": "python",
   "name": "python3"
  },
  "language_info": {
   "codemirror_mode": {
    "name": "ipython",
    "version": 3
   },
   "file_extension": ".py",
   "mimetype": "text/x-python",
   "name": "python",
   "nbconvert_exporter": "python",
   "pygments_lexer": "ipython3",
   "version": "3.6.9"
  }
 },
 "nbformat": 4,
 "nbformat_minor": 4
}
